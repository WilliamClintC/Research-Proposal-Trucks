{
 "cells": [
  {
   "cell_type": "markdown",
   "metadata": {},
   "source": [
    "treatment with fatalities >1\n",
    "\n",
    "\n",
    "control without fatalitieis <1"
   ]
  },
  {
   "cell_type": "code",
   "execution_count": 3,
   "metadata": {},
   "outputs": [
    {
     "data": {
      "application/vnd.microsoft.datawrangler.viewer.v0+json": {
       "columns": [
        {
         "name": "index",
         "rawType": "int64",
         "type": "integer"
        },
        {
         "name": "Unnamed: 0",
         "rawType": "int64",
         "type": "integer"
        },
        {
         "name": "year",
         "rawType": "int64",
         "type": "integer"
        },
        {
         "name": "county",
         "rawType": "int64",
         "type": "integer"
        },
        {
         "name": "cnt",
         "rawType": "int64",
         "type": "integer"
        }
       ],
       "conversionMethod": "pd.DataFrame",
       "ref": "56f94cbb-4c6c-4751-98b0-b5f4e27ff65c",
       "rows": [
        [
         "0",
         "0",
         "2006",
         "1001",
         "1"
        ],
        [
         "1",
         "1",
         "2006",
         "1003",
         "7"
        ],
        [
         "2",
         "2",
         "2006",
         "1009",
         "1"
        ],
        [
         "3",
         "3",
         "2006",
         "1011",
         "1"
        ],
        [
         "4",
         "4",
         "2006",
         "1015",
         "2"
        ]
       ],
       "shape": {
        "columns": 4,
        "rows": 5
       }
      },
      "text/html": [
       "<div>\n",
       "<style scoped>\n",
       "    .dataframe tbody tr th:only-of-type {\n",
       "        vertical-align: middle;\n",
       "    }\n",
       "\n",
       "    .dataframe tbody tr th {\n",
       "        vertical-align: top;\n",
       "    }\n",
       "\n",
       "    .dataframe thead th {\n",
       "        text-align: right;\n",
       "    }\n",
       "</style>\n",
       "<table border=\"1\" class=\"dataframe\">\n",
       "  <thead>\n",
       "    <tr style=\"text-align: right;\">\n",
       "      <th></th>\n",
       "      <th>Unnamed: 0</th>\n",
       "      <th>year</th>\n",
       "      <th>county</th>\n",
       "      <th>cnt</th>\n",
       "    </tr>\n",
       "  </thead>\n",
       "  <tbody>\n",
       "    <tr>\n",
       "      <th>0</th>\n",
       "      <td>0</td>\n",
       "      <td>2006</td>\n",
       "      <td>1001</td>\n",
       "      <td>1</td>\n",
       "    </tr>\n",
       "    <tr>\n",
       "      <th>1</th>\n",
       "      <td>1</td>\n",
       "      <td>2006</td>\n",
       "      <td>1003</td>\n",
       "      <td>7</td>\n",
       "    </tr>\n",
       "    <tr>\n",
       "      <th>2</th>\n",
       "      <td>2</td>\n",
       "      <td>2006</td>\n",
       "      <td>1009</td>\n",
       "      <td>1</td>\n",
       "    </tr>\n",
       "    <tr>\n",
       "      <th>3</th>\n",
       "      <td>3</td>\n",
       "      <td>2006</td>\n",
       "      <td>1011</td>\n",
       "      <td>1</td>\n",
       "    </tr>\n",
       "    <tr>\n",
       "      <th>4</th>\n",
       "      <td>4</td>\n",
       "      <td>2006</td>\n",
       "      <td>1015</td>\n",
       "      <td>2</td>\n",
       "    </tr>\n",
       "  </tbody>\n",
       "</table>\n",
       "</div>"
      ],
      "text/plain": [
       "   Unnamed: 0  year  county  cnt\n",
       "0           0  2006    1001    1\n",
       "1           1  2006    1003    7\n",
       "2           2  2006    1009    1\n",
       "3           3  2006    1011    1\n",
       "4           4  2006    1015    2"
      ]
     },
     "execution_count": 3,
     "metadata": {},
     "output_type": "execute_result"
    }
   ],
   "source": [
    "import pandas as pd\n",
    "\n",
    "# Load the CSV file into a DataFrame\n",
    "file_path = r'C:\\Users\\clint\\Desktop\\Research-Paper-Trucks\\Data\\entry_exit\\county_year_counts.csv'\n",
    "df = pd.read_csv(file_path)\n",
    "\n",
    "# Display the first few rows of the DataFrame\n",
    "df.head()"
   ]
  },
  {
   "cell_type": "code",
   "execution_count": 4,
   "metadata": {},
   "outputs": [
    {
     "data": {
      "application/vnd.microsoft.datawrangler.viewer.v0+json": {
       "columns": [
        {
         "name": "index",
         "rawType": "int64",
         "type": "integer"
        },
        {
         "name": "Unnamed: 0",
         "rawType": "int64",
         "type": "integer"
        },
        {
         "name": "year",
         "rawType": "int64",
         "type": "integer"
        },
        {
         "name": "county",
         "rawType": "object",
         "type": "string"
        },
        {
         "name": "cnt",
         "rawType": "int64",
         "type": "integer"
        }
       ],
       "conversionMethod": "pd.DataFrame",
       "ref": "b7089cc4-8070-4d27-847f-602305fc61d8",
       "rows": [
        [
         "0",
         "0",
         "2006",
         "01001",
         "1"
        ],
        [
         "1",
         "1",
         "2006",
         "01003",
         "7"
        ],
        [
         "2",
         "2",
         "2006",
         "01009",
         "1"
        ],
        [
         "3",
         "3",
         "2006",
         "01011",
         "1"
        ],
        [
         "4",
         "4",
         "2006",
         "01015",
         "2"
        ]
       ],
       "shape": {
        "columns": 4,
        "rows": 5
       }
      },
      "text/html": [
       "<div>\n",
       "<style scoped>\n",
       "    .dataframe tbody tr th:only-of-type {\n",
       "        vertical-align: middle;\n",
       "    }\n",
       "\n",
       "    .dataframe tbody tr th {\n",
       "        vertical-align: top;\n",
       "    }\n",
       "\n",
       "    .dataframe thead th {\n",
       "        text-align: right;\n",
       "    }\n",
       "</style>\n",
       "<table border=\"1\" class=\"dataframe\">\n",
       "  <thead>\n",
       "    <tr style=\"text-align: right;\">\n",
       "      <th></th>\n",
       "      <th>Unnamed: 0</th>\n",
       "      <th>year</th>\n",
       "      <th>county</th>\n",
       "      <th>cnt</th>\n",
       "    </tr>\n",
       "  </thead>\n",
       "  <tbody>\n",
       "    <tr>\n",
       "      <th>0</th>\n",
       "      <td>0</td>\n",
       "      <td>2006</td>\n",
       "      <td>01001</td>\n",
       "      <td>1</td>\n",
       "    </tr>\n",
       "    <tr>\n",
       "      <th>1</th>\n",
       "      <td>1</td>\n",
       "      <td>2006</td>\n",
       "      <td>01003</td>\n",
       "      <td>7</td>\n",
       "    </tr>\n",
       "    <tr>\n",
       "      <th>2</th>\n",
       "      <td>2</td>\n",
       "      <td>2006</td>\n",
       "      <td>01009</td>\n",
       "      <td>1</td>\n",
       "    </tr>\n",
       "    <tr>\n",
       "      <th>3</th>\n",
       "      <td>3</td>\n",
       "      <td>2006</td>\n",
       "      <td>01011</td>\n",
       "      <td>1</td>\n",
       "    </tr>\n",
       "    <tr>\n",
       "      <th>4</th>\n",
       "      <td>4</td>\n",
       "      <td>2006</td>\n",
       "      <td>01015</td>\n",
       "      <td>2</td>\n",
       "    </tr>\n",
       "  </tbody>\n",
       "</table>\n",
       "</div>"
      ],
      "text/plain": [
       "   Unnamed: 0  year county  cnt\n",
       "0           0  2006  01001    1\n",
       "1           1  2006  01003    7\n",
       "2           2  2006  01009    1\n",
       "3           3  2006  01011    1\n",
       "4           4  2006  01015    2"
      ]
     },
     "execution_count": 4,
     "metadata": {},
     "output_type": "execute_result"
    }
   ],
   "source": [
    "df['county'] = df['county'].astype(str).str.zfill(5)\n",
    "df.head()"
   ]
  },
  {
   "cell_type": "code",
   "execution_count": 5,
   "metadata": {},
   "outputs": [
    {
     "name": "stdout",
     "output_type": "stream",
     "text": [
      "Counties missing required years: ['01009', '01061', '01075', '01083', '01131', '05049', '05073', '05109', '05129', '06059', '08005', '08017', '08061', '08069', '08115', '09005', '09007', '12027', '12091', '12121', '13017', '13067', '13169', '13171', '13223', '13227', '13239', '13265', '13279', '16007', '16009', '16029', '16031', '16049', '16083', '17001', '17087', '17109', '17169', '17171', '17187', '18077', '18173', '18183', '19049', '19063', '19097', '19135', '19149', '19161', '19187', '19195', '20029', '20037', '20087', '20089', '20117', '20127', '20143', '20157', '20159', '20163', '21045', '21053', '21101', '21107', '21153', '21191', '21205', '21217', '21221', '21233', '21237', '21239', '22115', '25001', '26007', '26011', '26101', '26157', '27101', '28015', '28023', '28045', '28051', '28083', '28129', '29013', '29051', '29121', '30045', '31021', '31105', '31149', '31173', '33007', '36003', '36035', '36089', '36105', '36111', '37011', '37141', '37161', '37185', '37199', '39021', '39073', '39131', '40021', '40033', '40063', '40113', '40137', '41015', '42031', '42063', '42089', '42101', '45027', '45055', '46115', '46119', '47017', '47045', '47055', '47099', '47133', '47165', '47167', '48001', '48011', '48049', '48063', '48069', '48095', '48129', '48181', '48199', '48225', '48233', '48269', '48281', '48299', '48321', '48395', '48435', '48455', '51071', '51073', '51079', '51087', '51095', '51107', '51125', '51153', '51169', '51630', '51650', '53065', '53071', '54033', '55011', '55037', '08093', '13055', '29161', '39115', '46021', '46023', '46055', '46063', '46093', '46125', '48499', '51710', '02090', '06061', '12087', '13133', '35027', '36083', '38011', '48043', '53067', '01005', '01007', '02122', '04021', '05023', '05031', '05051', '05053', '05135', '05137', '08103', '12113', '12115', '13053', '13111', '13113', '13197', '13241', '13297', '13309', '16023', '17005', '17025', '17033', '17039', '17147', '18095', '18109', '18169', '19035', '19073', '19075', '19177', '19181', '19197', '20005', '21027', '21037', '21041', '21073', '21141', '21225', '22027', '22061', '22085', '23023', '24011', '24029', '24031', '24039', '26059', '26111', '26121', '26125', '26139', '27039', '27109', '27133', '27157', '28019', '28079', '28103', '28105', '29015', '29111', '29123', '30047', '31175', '32029', '34009', '35061', '36087', '37007', '37015', '37083', '37143', '38053', '39025', '39055', '39083', '39137', '40067', '40083', '40105', '42083', '42113', '42131', '45001', '45031', '46127', '47105', '47143', '47159', '47161', '48025', '48045', '48051', '48053', '48091', '48123', '48127', '48143', '48219', '48231', '48235', '48247', '48259', '48383', '48399', '48427', '48495', '48507', '49019', '51047', '51053', '51137', '51177', '53043', '54029', '54061', '54103', '55113', '13243', '20003', '22035', '28133', '30083', '48311', '06087', '17155', '17165', '29129', '31063', '37109', '37137', '38061', '39109', '39141', '48059', '48327']\n"
     ]
    }
   ],
   "source": [
    "required_years = {2006, 2007, 2008, 2014, 2015, 2016}\n",
    "counties = df['county'].unique()\n",
    "\n",
    "missing_years_counties = []\n",
    "\n",
    "for county in counties:\n",
    "    county_years = set(df[df['county'] == county]['year'])\n",
    "    if not required_years.issubset(county_years):\n",
    "        missing_years_counties.append(county)\n",
    "\n",
    "print(\"Counties missing required years:\", missing_years_counties)"
   ]
  },
  {
   "cell_type": "code",
   "execution_count": 6,
   "metadata": {},
   "outputs": [
    {
     "data": {
      "application/vnd.microsoft.datawrangler.viewer.v0+json": {
       "columns": [
        {
         "name": "index",
         "rawType": "int64",
         "type": "integer"
        },
        {
         "name": "Unnamed: 0",
         "rawType": "int64",
         "type": "integer"
        },
        {
         "name": "year",
         "rawType": "int64",
         "type": "integer"
        },
        {
         "name": "county",
         "rawType": "object",
         "type": "string"
        },
        {
         "name": "cnt",
         "rawType": "int64",
         "type": "integer"
        }
       ],
       "conversionMethod": "pd.DataFrame",
       "ref": "2d5761aa-faba-4714-b2b0-119f65b7180f",
       "rows": [
        [
         "2",
         "2",
         "2006",
         "01009",
         "1"
        ],
        [
         "2105",
         "2105",
         "2007",
         "01009",
         "1"
        ],
        [
         "4186",
         "4186",
         "2008",
         "01009",
         "1"
        ]
       ],
       "shape": {
        "columns": 4,
        "rows": 3
       }
      },
      "text/html": [
       "<div>\n",
       "<style scoped>\n",
       "    .dataframe tbody tr th:only-of-type {\n",
       "        vertical-align: middle;\n",
       "    }\n",
       "\n",
       "    .dataframe tbody tr th {\n",
       "        vertical-align: top;\n",
       "    }\n",
       "\n",
       "    .dataframe thead th {\n",
       "        text-align: right;\n",
       "    }\n",
       "</style>\n",
       "<table border=\"1\" class=\"dataframe\">\n",
       "  <thead>\n",
       "    <tr style=\"text-align: right;\">\n",
       "      <th></th>\n",
       "      <th>Unnamed: 0</th>\n",
       "      <th>year</th>\n",
       "      <th>county</th>\n",
       "      <th>cnt</th>\n",
       "    </tr>\n",
       "  </thead>\n",
       "  <tbody>\n",
       "    <tr>\n",
       "      <th>2</th>\n",
       "      <td>2</td>\n",
       "      <td>2006</td>\n",
       "      <td>01009</td>\n",
       "      <td>1</td>\n",
       "    </tr>\n",
       "    <tr>\n",
       "      <th>2105</th>\n",
       "      <td>2105</td>\n",
       "      <td>2007</td>\n",
       "      <td>01009</td>\n",
       "      <td>1</td>\n",
       "    </tr>\n",
       "    <tr>\n",
       "      <th>4186</th>\n",
       "      <td>4186</td>\n",
       "      <td>2008</td>\n",
       "      <td>01009</td>\n",
       "      <td>1</td>\n",
       "    </tr>\n",
       "  </tbody>\n",
       "</table>\n",
       "</div>"
      ],
      "text/plain": [
       "      Unnamed: 0  year county  cnt\n",
       "2              2  2006  01009    1\n",
       "2105        2105  2007  01009    1\n",
       "4186        4186  2008  01009    1"
      ]
     },
     "execution_count": 6,
     "metadata": {},
     "output_type": "execute_result"
    }
   ],
   "source": [
    "county_01009 = df[df['county'] == '01009']\n",
    "county_01009"
   ]
  },
  {
   "cell_type": "code",
   "execution_count": null,
   "metadata": {},
   "outputs": [],
   "source": []
  }
 ],
 "metadata": {
  "kernelspec": {
   "display_name": "Python 3",
   "language": "python",
   "name": "python3"
  },
  "language_info": {
   "codemirror_mode": {
    "name": "ipython",
    "version": 3
   },
   "file_extension": ".py",
   "mimetype": "text/x-python",
   "name": "python",
   "nbconvert_exporter": "python",
   "pygments_lexer": "ipython3",
   "version": "3.11.9"
  }
 },
 "nbformat": 4,
 "nbformat_minor": 2
}
